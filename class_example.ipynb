{
 "cells": [
  {
   "cell_type": "code",
   "execution_count": 4,
   "id": "71a0a4b4",
   "metadata": {},
   "outputs": [],
   "source": [
    "# Pivoting Data with Polars\n",
    "import polars as pl"
   ]
  },
  {
   "cell_type": "code",
   "execution_count": null,
   "id": "46ce7da1",
   "metadata": {},
   "outputs": [
    {
     "name": "stdout",
     "output_type": "stream",
     "text": [
      "World Bank Population Dataset Shape: (1064, 21)\n",
      "\n",
      "Column names: ['rownames', 'country', 'indicator', '2000', '2001', '2002', '2003', '2004', '2005', '2006', '2007', '2008', '2009', '2010', '2011', '2012', '2013', '2014', '2015', '2016', '2017']\n",
      "\n",
      "First few rows:\n"
     ]
    },
    {
     "data": {
      "text/html": [
       "<div><style>\n",
       ".dataframe > thead > tr,\n",
       ".dataframe > tbody > tr {\n",
       "  text-align: right;\n",
       "  white-space: pre-wrap;\n",
       "}\n",
       "</style>\n",
       "<small>shape: (5, 21)</small><table border=\"1\" class=\"dataframe\"><thead><tr><th>rownames</th><th>country</th><th>indicator</th><th>2000</th><th>2001</th><th>2002</th><th>2003</th><th>2004</th><th>2005</th><th>2006</th><th>2007</th><th>2008</th><th>2009</th><th>2010</th><th>2011</th><th>2012</th><th>2013</th><th>2014</th><th>2015</th><th>2016</th><th>2017</th></tr><tr><td>i64</td><td>str</td><td>str</td><td>f64</td><td>f64</td><td>f64</td><td>f64</td><td>f64</td><td>f64</td><td>f64</td><td>f64</td><td>f64</td><td>f64</td><td>f64</td><td>f64</td><td>f64</td><td>f64</td><td>f64</td><td>f64</td><td>f64</td><td>f64</td></tr></thead><tbody><tr><td>1</td><td>&quot;ABW&quot;</td><td>&quot;SP.URB.TOTL&quot;</td><td>41625.0</td><td>42025.0</td><td>42194.0</td><td>42277.0</td><td>42317.0</td><td>42399.0</td><td>42555.0</td><td>42729.0</td><td>42906.0</td><td>43079.0</td><td>43206.0</td><td>43493.0</td><td>43864.0</td><td>44228.0</td><td>44588.0</td><td>44943.0</td><td>45297.0</td><td>45648.0</td></tr><tr><td>2</td><td>&quot;ABW&quot;</td><td>&quot;SP.URB.GROW&quot;</td><td>1.664222</td><td>0.956373</td><td>0.401335</td><td>0.196517</td><td>0.094569</td><td>0.193588</td><td>0.367258</td><td>0.408049</td><td>0.413383</td><td>0.402396</td><td>0.294374</td><td>0.662063</td><td>0.849393</td><td>0.826413</td><td>0.810669</td><td>0.793026</td><td>0.784578</td><td>0.771899</td></tr><tr><td>3</td><td>&quot;ABW&quot;</td><td>&quot;SP.POP.TOTL&quot;</td><td>89101.0</td><td>90691.0</td><td>91781.0</td><td>92701.0</td><td>93540.0</td><td>94483.0</td><td>95606.0</td><td>96787.0</td><td>97996.0</td><td>99212.0</td><td>100341.0</td><td>101288.0</td><td>102112.0</td><td>102880.0</td><td>103594.0</td><td>104257.0</td><td>104874.0</td><td>105439.0</td></tr><tr><td>4</td><td>&quot;ABW&quot;</td><td>&quot;SP.POP.GROW&quot;</td><td>2.539234</td><td>1.768757</td><td>1.194718</td><td>0.997396</td><td>0.900989</td><td>1.003077</td><td>1.181566</td><td>1.227711</td><td>1.241397</td><td>1.233231</td><td>1.131541</td><td>0.939356</td><td>0.810231</td><td>0.749301</td><td>0.691615</td><td>0.637959</td><td>0.590062</td><td>0.537296</td></tr><tr><td>5</td><td>&quot;AFE&quot;</td><td>&quot;SP.URB.TOTL&quot;</td><td>1.15551653e8</td><td>1.19775502e8</td><td>1.24227507e8</td><td>1.28833965e8</td><td>1.33647466e8</td><td>1.38745587e8</td><td>1.4402674e8</td><td>1.49231302e8</td><td>1.55383774e8</td><td>1.61776165e8</td><td>1.68456076e8</td><td>1.75415651e8</td><td>1.82558745e8</td><td>1.90108665e8</td><td>1.98073341e8</td><td>2.06556291e8</td><td>2.15083329e8</td><td>2.23732118e8</td></tr></tbody></table></div>"
      ],
      "text/plain": [
       "shape: (5, 21)\n",
       "┌──────────┬─────────┬────────────┬────────────┬───┬───────────┬───────────┬───────────┬───────────┐\n",
       "│ rownames ┆ country ┆ indicator  ┆ 2000       ┆ … ┆ 2014      ┆ 2015      ┆ 2016      ┆ 2017      │\n",
       "│ ---      ┆ ---     ┆ ---        ┆ ---        ┆   ┆ ---       ┆ ---       ┆ ---       ┆ ---       │\n",
       "│ i64      ┆ str     ┆ str        ┆ f64        ┆   ┆ f64       ┆ f64       ┆ f64       ┆ f64       │\n",
       "╞══════════╪═════════╪════════════╪════════════╪═══╪═══════════╪═══════════╪═══════════╪═══════════╡\n",
       "│ 1        ┆ ABW     ┆ SP.URB.TOT ┆ 41625.0    ┆ … ┆ 44588.0   ┆ 44943.0   ┆ 45297.0   ┆ 45648.0   │\n",
       "│          ┆         ┆ L          ┆            ┆   ┆           ┆           ┆           ┆           │\n",
       "│ 2        ┆ ABW     ┆ SP.URB.GRO ┆ 1.664222   ┆ … ┆ 0.810669  ┆ 0.793026  ┆ 0.784578  ┆ 0.771899  │\n",
       "│          ┆         ┆ W          ┆            ┆   ┆           ┆           ┆           ┆           │\n",
       "│ 3        ┆ ABW     ┆ SP.POP.TOT ┆ 89101.0    ┆ … ┆ 103594.0  ┆ 104257.0  ┆ 104874.0  ┆ 105439.0  │\n",
       "│          ┆         ┆ L          ┆            ┆   ┆           ┆           ┆           ┆           │\n",
       "│ 4        ┆ ABW     ┆ SP.POP.GRO ┆ 2.539234   ┆ … ┆ 0.691615  ┆ 0.637959  ┆ 0.590062  ┆ 0.537296  │\n",
       "│          ┆         ┆ W          ┆            ┆   ┆           ┆           ┆           ┆           │\n",
       "│ 5        ┆ AFE     ┆ SP.URB.TOT ┆ 1.15551653 ┆ … ┆ 1.9807334 ┆ 2.0655629 ┆ 2.1508332 ┆ 2.2373211 │\n",
       "│          ┆         ┆ L          ┆ e8         ┆   ┆ 1e8       ┆ 1e8       ┆ 9e8       ┆ 8e8       │\n",
       "└──────────┴─────────┴────────────┴────────────┴───┴───────────┴───────────┴───────────┴───────────┘"
      ]
     },
     "execution_count": 10,
     "metadata": {},
     "output_type": "execute_result"
    }
   ],
   "source": [
    "# Load World Bank Population data from CSV file\n",
    "world_bank_pop = pl.read_csv(\"https://raw.githubusercontent.com/philhetzel/opan5510-class12/refs/heads/main/data/world_bank_pop.csv\", null_values=[\"NA\", ''])\n",
    "\n",
    "print(\"World Bank Population Dataset Shape:\", world_bank_pop.shape)\n",
    "print(\"\\nColumn names:\", world_bank_pop.columns)\n",
    "print(\"\\nFirst few rows:\")\n",
    "world_bank_pop.head()"
   ]
  },
  {
   "cell_type": "code",
   "execution_count": 6,
   "id": "4875e4ef",
   "metadata": {},
   "outputs": [
    {
     "name": "stdout",
     "output_type": "stream",
     "text": [
      "The wide format makes it difficult to aggregate across all years\n"
     ]
    }
   ],
   "source": [
    "## Is this useful?\n",
    "\n",
    "# Sometimes you have to work with wide data. In wide data, you will have many instances \n",
    "# of the same metric in the same row. How could you, for example, take a sum of ALL total population data?\n",
    "\n",
    "# This would be cumbersome in wide format - you'd have to list all year columns\n",
    "total_pop = world_bank_pop.filter(pl.col(\"indicator\") == \"SP.POP.TOTL\")\n",
    "population_sum = total_pop.select([pl.col(str(year)).sum() for year in range(2000, 2018)])\n",
    "\n",
    "print(\"The wide format makes it difficult to aggregate across all years\")"
   ]
  },
  {
   "cell_type": "markdown",
   "id": "xapjpvau6jo",
   "metadata": {},
   "source": [
    "## Going from wide to narrow datasets in order to summarize\n",
    "\n",
    "We need to make sure that each yearly metric has its own row instead of being combined into one row.\n",
    "\n",
    "**Pivoting data from \"wide\" to \"long\"** - Think about this like an open door. We want to \"swing\" the door shut by placing the values of certain column headers into a single column. \n",
    "\n",
    "In Polars, we use `unpivot()`:\n",
    "- `index`: Columns to keep as identifiers (the \"hinge\")\n",
    "- `on`: Columns to unpivot (the \"door\" we're closing)\n",
    "- `variable_name`: Name for the new column containing former column names\n",
    "- `value_name`: Name for the new column containing the values"
   ]
  },
  {
   "cell_type": "code",
   "execution_count": 12,
   "id": "7h4sidaou7a",
   "metadata": {},
   "outputs": [
    {
     "name": "stdout",
     "output_type": "stream",
     "text": [
      "Long dataset shape: (19152, 4)\n",
      "\n",
      "First 10 rows of long dataset:\n"
     ]
    },
    {
     "data": {
      "text/html": [
       "<div><style>\n",
       ".dataframe > thead > tr,\n",
       ".dataframe > tbody > tr {\n",
       "  text-align: right;\n",
       "  white-space: pre-wrap;\n",
       "}\n",
       "</style>\n",
       "<small>shape: (10, 4)</small><table border=\"1\" class=\"dataframe\"><thead><tr><th>country</th><th>indicator</th><th>year</th><th>metric</th></tr><tr><td>str</td><td>str</td><td>i64</td><td>f64</td></tr></thead><tbody><tr><td>&quot;ABW&quot;</td><td>&quot;SP.URB.TOTL&quot;</td><td>2000</td><td>41625.0</td></tr><tr><td>&quot;ABW&quot;</td><td>&quot;SP.URB.GROW&quot;</td><td>2000</td><td>1.664222</td></tr><tr><td>&quot;ABW&quot;</td><td>&quot;SP.POP.TOTL&quot;</td><td>2000</td><td>89101.0</td></tr><tr><td>&quot;ABW&quot;</td><td>&quot;SP.POP.GROW&quot;</td><td>2000</td><td>2.539234</td></tr><tr><td>&quot;AFE&quot;</td><td>&quot;SP.URB.TOTL&quot;</td><td>2000</td><td>1.15551653e8</td></tr><tr><td>&quot;AFE&quot;</td><td>&quot;SP.URB.GROW&quot;</td><td>2000</td><td>3.602262</td></tr><tr><td>&quot;AFE&quot;</td><td>&quot;SP.POP.TOTL&quot;</td><td>2000</td><td>4.01600588e8</td></tr><tr><td>&quot;AFE&quot;</td><td>&quot;SP.POP.GROW&quot;</td><td>2000</td><td>2.583579</td></tr><tr><td>&quot;AFG&quot;</td><td>&quot;SP.URB.TOTL&quot;</td><td>2000</td><td>4.3147e6</td></tr><tr><td>&quot;AFG&quot;</td><td>&quot;SP.URB.GROW&quot;</td><td>2000</td><td>1.861377</td></tr></tbody></table></div>"
      ],
      "text/plain": [
       "shape: (10, 4)\n",
       "┌─────────┬─────────────┬──────┬──────────────┐\n",
       "│ country ┆ indicator   ┆ year ┆ metric       │\n",
       "│ ---     ┆ ---         ┆ ---  ┆ ---          │\n",
       "│ str     ┆ str         ┆ i64  ┆ f64          │\n",
       "╞═════════╪═════════════╪══════╪══════════════╡\n",
       "│ ABW     ┆ SP.URB.TOTL ┆ 2000 ┆ 41625.0      │\n",
       "│ ABW     ┆ SP.URB.GROW ┆ 2000 ┆ 1.664222     │\n",
       "│ ABW     ┆ SP.POP.TOTL ┆ 2000 ┆ 89101.0      │\n",
       "│ ABW     ┆ SP.POP.GROW ┆ 2000 ┆ 2.539234     │\n",
       "│ AFE     ┆ SP.URB.TOTL ┆ 2000 ┆ 1.15551653e8 │\n",
       "│ AFE     ┆ SP.URB.GROW ┆ 2000 ┆ 3.602262     │\n",
       "│ AFE     ┆ SP.POP.TOTL ┆ 2000 ┆ 4.01600588e8 │\n",
       "│ AFE     ┆ SP.POP.GROW ┆ 2000 ┆ 2.583579     │\n",
       "│ AFG     ┆ SP.URB.TOTL ┆ 2000 ┆ 4.3147e6     │\n",
       "│ AFG     ┆ SP.URB.GROW ┆ 2000 ┆ 1.861377     │\n",
       "└─────────┴─────────────┴──────┴──────────────┘"
      ]
     },
     "execution_count": 12,
     "metadata": {},
     "output_type": "execute_result"
    }
   ],
   "source": [
    "# Pivot from wide to long format using unpivot()\n",
    "\n",
    "# Get all year columns (all columns except country and indicator)\n",
    "year_columns = [col for col in world_bank_pop.columns if col not in [\"country\", \"indicator\", \"rownames\"]]\n",
    "\n",
    "# Unpivot the dataframe from wide to long\n",
    "long_dataset = world_bank_pop.unpivot(\n",
    "    index=[\"country\", \"indicator\"],     # These are the \"hinge\" columns\n",
    "    on=year_columns,                     # These are the columns to unpivot\n",
    "    variable_name=\"year\",                # Name for the new column with year values\n",
    "    value_name=\"metric\"                  # Name for the new column with metric values\n",
    ").with_columns(pl.col(\"year\").cast(pl.Int64()))\n",
    "\n",
    "print(f\"Long dataset shape: {long_dataset.shape}\")\n",
    "print(\"\\nFirst 10 rows of long dataset:\")\n",
    "long_dataset.head(10)"
   ]
  },
  {
   "cell_type": "markdown",
   "id": "zls2ic955b8",
   "metadata": {},
   "source": [
    "### Now we can better aggregate metrics across years\n",
    "\n",
    "Find the average total population for each country"
   ]
  },
  {
   "cell_type": "code",
   "execution_count": 13,
   "id": "ihhpz0za0g",
   "metadata": {},
   "outputs": [
    {
     "name": "stdout",
     "output_type": "stream",
     "text": [
      "Average population per country:\n"
     ]
    },
    {
     "data": {
      "text/html": [
       "<div><style>\n",
       ".dataframe > thead > tr,\n",
       ".dataframe > tbody > tr {\n",
       "  text-align: right;\n",
       "  white-space: pre-wrap;\n",
       "}\n",
       "</style>\n",
       "<small>shape: (266, 2)</small><table border=\"1\" class=\"dataframe\"><thead><tr><th>country</th><th>avg_pop</th></tr><tr><td>str</td><td>f64</td></tr></thead><tbody><tr><td>&quot;TSA&quot;</td><td>1.6212e9</td></tr><tr><td>&quot;QAT&quot;</td><td>1506079.5</td></tr><tr><td>&quot;BHS&quot;</td><td>364164.666667</td></tr><tr><td>&quot;EUU&quot;</td><td>4.3860e8</td></tr><tr><td>&quot;ECA&quot;</td><td>3.7928e8</td></tr><tr><td>&hellip;</td><td>&hellip;</td></tr><tr><td>&quot;NAC&quot;</td><td>3.3812e8</td></tr><tr><td>&quot;BGR&quot;</td><td>7.5095e6</td></tr><tr><td>&quot;SDN&quot;</td><td>3.2692e7</td></tr><tr><td>&quot;TUR&quot;</td><td>7.2347e7</td></tr><tr><td>&quot;LTU&quot;</td><td>3.1664e6</td></tr></tbody></table></div>"
      ],
      "text/plain": [
       "shape: (266, 2)\n",
       "┌─────────┬───────────────┐\n",
       "│ country ┆ avg_pop       │\n",
       "│ ---     ┆ ---           │\n",
       "│ str     ┆ f64           │\n",
       "╞═════════╪═══════════════╡\n",
       "│ TSA     ┆ 1.6212e9      │\n",
       "│ QAT     ┆ 1506079.5     │\n",
       "│ BHS     ┆ 364164.666667 │\n",
       "│ EUU     ┆ 4.3860e8      │\n",
       "│ ECA     ┆ 3.7928e8      │\n",
       "│ …       ┆ …             │\n",
       "│ NAC     ┆ 3.3812e8      │\n",
       "│ BGR     ┆ 7.5095e6      │\n",
       "│ SDN     ┆ 3.2692e7      │\n",
       "│ TUR     ┆ 7.2347e7      │\n",
       "│ LTU     ┆ 3.1664e6      │\n",
       "└─────────┴───────────────┘"
      ]
     },
     "execution_count": 13,
     "metadata": {},
     "output_type": "execute_result"
    }
   ],
   "source": [
    "# Calculate average total population for each country\n",
    "\n",
    "avg_pop_per_country = (\n",
    "    long_dataset\n",
    "    .filter(pl.col(\"indicator\") == \"SP.POP.TOTL\")  # Filter for total population\n",
    "    .group_by(\"country\")                            # Group by country\n",
    "    .agg(pl.col(\"metric\").mean().alias(\"avg_pop\"))  # Calculate mean, handling nulls\n",
    ")\n",
    "\n",
    "print(\"Average population per country:\")\n",
    "avg_pop_per_country"
   ]
  },
  {
   "cell_type": "markdown",
   "id": "q2v03dvngus",
   "metadata": {},
   "source": [
    "## Aggregating columns with multiple measures\n",
    "\n",
    "When working with data, it's best to have exactly one definition for the metrics of a column. In the example below, there are metrics for urban population, urban population growth, total population, and total population growth.\n",
    "\n",
    "The units of the data within the metric column are different - the population metrics are in the units of people whereas the growth metrics are in the units of percents."
   ]
  },
  {
   "cell_type": "code",
   "execution_count": null,
   "id": "jetve3n54gk",
   "metadata": {},
   "outputs": [],
   "source": [
    "# Trying to sum all metrics doesn't make sense when they have different units\n",
    "metrics_tot = long_dataset.select(pl.col(\"metric\").sum())\n",
    "\n",
    "print(\"Sum of all metrics (meaningless number due to mixed units):\")\n",
    "print(f\"Total: {metrics_tot.item():,.2f}\")\n",
    "print(\"\\nThis combines population counts (in millions) with growth rates (in percents)!\")"
   ]
  },
  {
   "cell_type": "markdown",
   "id": "x509jfp02xf",
   "metadata": {},
   "source": [
    "### Creating one column per metric (narrow to wide)\n",
    "\n",
    "It is better to pivot the data from narrow to wide to ensure that every column represents exactly one definition. Consider a long dataset like a closed door that we want to open.\n",
    "\n",
    "In Polars, we use `pivot()`:\n",
    "- `index`: Columns that identify each observation (the \"hinge\")  \n",
    "- `columns`: Column whose values become new column names (the \"door\" we're opening)\n",
    "- `values`: Column containing the values to fill the new columns"
   ]
  },
  {
   "cell_type": "code",
   "execution_count": 14,
   "id": "hcm5iown1je",
   "metadata": {},
   "outputs": [
    {
     "name": "stdout",
     "output_type": "stream",
     "text": [
      "Wider dataset shape: (4788, 6)\n",
      "\n",
      "Now each indicator has its own column:\n",
      "Columns: ['country', 'year', 'SP.URB.TOTL', 'SP.URB.GROW', 'SP.POP.TOTL', 'SP.POP.GROW']\n",
      "\n",
      "First 10 rows:\n"
     ]
    },
    {
     "name": "stderr",
     "output_type": "stream",
     "text": [
      "/var/folders/cq/gb4n_zwd509fb_pw_5ws7xgh0000gn/T/ipykernel_25899/2810382385.py:3: DeprecationWarning: the argument `columns` for `DataFrame.pivot` is deprecated. It was renamed to `on` in version 1.0.0.\n",
      "  wider_dataset = long_dataset.pivot(\n"
     ]
    },
    {
     "data": {
      "text/html": [
       "<div><style>\n",
       ".dataframe > thead > tr,\n",
       ".dataframe > tbody > tr {\n",
       "  text-align: right;\n",
       "  white-space: pre-wrap;\n",
       "}\n",
       "</style>\n",
       "<small>shape: (10, 6)</small><table border=\"1\" class=\"dataframe\"><thead><tr><th>country</th><th>year</th><th>SP.URB.TOTL</th><th>SP.URB.GROW</th><th>SP.POP.TOTL</th><th>SP.POP.GROW</th></tr><tr><td>str</td><td>i64</td><td>f64</td><td>f64</td><td>f64</td><td>f64</td></tr></thead><tbody><tr><td>&quot;ABW&quot;</td><td>2000</td><td>41625.0</td><td>1.664222</td><td>89101.0</td><td>2.539234</td></tr><tr><td>&quot;AFE&quot;</td><td>2000</td><td>1.15551653e8</td><td>3.602262</td><td>4.01600588e8</td><td>2.583579</td></tr><tr><td>&quot;AFG&quot;</td><td>2000</td><td>4.3147e6</td><td>1.861377</td><td>1.9542982e7</td><td>1.443803</td></tr><tr><td>&quot;AFW&quot;</td><td>2000</td><td>9.527289e7</td><td>4.145189</td><td>2.69611898e8</td><td>2.7496</td></tr><tr><td>&quot;AGO&quot;</td><td>2000</td><td>8.211294e6</td><td>5.64867</td><td>1.6394062e7</td><td>3.244121</td></tr><tr><td>&quot;ALB&quot;</td><td>2000</td><td>1.289391e6</td><td>0.742479</td><td>3.089027e6</td><td>-0.637357</td></tr><tr><td>&quot;AND&quot;</td><td>2000</td><td>61070.0</td><td>0.377328</td><td>66097.0</td><td>0.67096</td></tr><tr><td>&quot;ARB&quot;</td><td>2000</td><td>1.52305719e8</td><td>2.761375</td><td>2.87065982e8</td><td>2.285934</td></tr><tr><td>&quot;ARE&quot;</td><td>2000</td><td>2.627996e6</td><td>6.112729</td><td>3.275333e6</td><td>5.580387</td></tr><tr><td>&quot;ARG&quot;</td><td>2000</td><td>3.3045629e7</td><td>1.346647</td><td>3.7070774e7</td><td>1.133277</td></tr></tbody></table></div>"
      ],
      "text/plain": [
       "shape: (10, 6)\n",
       "┌─────────┬──────┬──────────────┬─────────────┬──────────────┬─────────────┐\n",
       "│ country ┆ year ┆ SP.URB.TOTL  ┆ SP.URB.GROW ┆ SP.POP.TOTL  ┆ SP.POP.GROW │\n",
       "│ ---     ┆ ---  ┆ ---          ┆ ---         ┆ ---          ┆ ---         │\n",
       "│ str     ┆ i64  ┆ f64          ┆ f64         ┆ f64          ┆ f64         │\n",
       "╞═════════╪══════╪══════════════╪═════════════╪══════════════╪═════════════╡\n",
       "│ ABW     ┆ 2000 ┆ 41625.0      ┆ 1.664222    ┆ 89101.0      ┆ 2.539234    │\n",
       "│ AFE     ┆ 2000 ┆ 1.15551653e8 ┆ 3.602262    ┆ 4.01600588e8 ┆ 2.583579    │\n",
       "│ AFG     ┆ 2000 ┆ 4.3147e6     ┆ 1.861377    ┆ 1.9542982e7  ┆ 1.443803    │\n",
       "│ AFW     ┆ 2000 ┆ 9.527289e7   ┆ 4.145189    ┆ 2.69611898e8 ┆ 2.7496      │\n",
       "│ AGO     ┆ 2000 ┆ 8.211294e6   ┆ 5.64867     ┆ 1.6394062e7  ┆ 3.244121    │\n",
       "│ ALB     ┆ 2000 ┆ 1.289391e6   ┆ 0.742479    ┆ 3.089027e6   ┆ -0.637357   │\n",
       "│ AND     ┆ 2000 ┆ 61070.0      ┆ 0.377328    ┆ 66097.0      ┆ 0.67096     │\n",
       "│ ARB     ┆ 2000 ┆ 1.52305719e8 ┆ 2.761375    ┆ 2.87065982e8 ┆ 2.285934    │\n",
       "│ ARE     ┆ 2000 ┆ 2.627996e6   ┆ 6.112729    ┆ 3.275333e6   ┆ 5.580387    │\n",
       "│ ARG     ┆ 2000 ┆ 3.3045629e7  ┆ 1.346647    ┆ 3.7070774e7  ┆ 1.133277    │\n",
       "└─────────┴──────┴──────────────┴─────────────┴──────────────┴─────────────┘"
      ]
     },
     "execution_count": 14,
     "metadata": {},
     "output_type": "execute_result"
    }
   ],
   "source": [
    "# Pivot from long to wide format\n",
    "\n",
    "wider_dataset = long_dataset.pivot(\n",
    "    index=[\"country\", \"year\"],     # These columns identify each observation (the \"hinge\")\n",
    "    columns=\"indicator\",            # Values from this column become new column names (the \"door\")\n",
    "    values=\"metric\"                 # Values to fill the new columns\n",
    ")\n",
    "\n",
    "print(f\"Wider dataset shape: {wider_dataset.shape}\")\n",
    "print(\"\\nNow each indicator has its own column:\")\n",
    "print(\"Columns:\", wider_dataset.columns)\n",
    "print(\"\\nFirst 10 rows:\")\n",
    "wider_dataset.head(10)"
   ]
  },
  {
   "cell_type": "markdown",
   "id": "1nupl7kwf9p",
   "metadata": {},
   "source": [
    "## Additional Dataset Examples\n",
    "\n",
    "### Billboard Dataset Example"
   ]
  },
  {
   "cell_type": "code",
   "execution_count": null,
   "id": "fif4nq9dy59",
   "metadata": {},
   "outputs": [
    {
     "name": "stdout",
     "output_type": "stream",
     "text": [
      "Billboard dataset shape: (317, 80)\n",
      "\n",
      "Column names: ['rownames', 'artist', 'track', 'date.entered', 'wk1', 'wk2', 'wk3', 'wk4', 'wk5', 'wk6']\n",
      "\n",
      "First few rows with selected columns:\n"
     ]
    },
    {
     "data": {
      "text/html": [
       "<div><style>\n",
       ".dataframe > thead > tr,\n",
       ".dataframe > tbody > tr {\n",
       "  text-align: right;\n",
       "  white-space: pre-wrap;\n",
       "}\n",
       "</style>\n",
       "<small>shape: (5, 6)</small><table border=\"1\" class=\"dataframe\"><thead><tr><th>rownames</th><th>artist</th><th>track</th><th>date.entered</th><th>wk1</th><th>wk2</th></tr><tr><td>i64</td><td>str</td><td>str</td><td>str</td><td>i64</td><td>i64</td></tr></thead><tbody><tr><td>1</td><td>&quot;2 Pac&quot;</td><td>&quot;Baby Don&#x27;t Cry (Keep...&quot;</td><td>&quot;2000-02-26&quot;</td><td>87</td><td>82</td></tr><tr><td>2</td><td>&quot;2Ge+her&quot;</td><td>&quot;The Hardest Part Of ...&quot;</td><td>&quot;2000-09-02&quot;</td><td>91</td><td>87</td></tr><tr><td>3</td><td>&quot;3 Doors Down&quot;</td><td>&quot;Kryptonite&quot;</td><td>&quot;2000-04-08&quot;</td><td>81</td><td>70</td></tr><tr><td>4</td><td>&quot;3 Doors Down&quot;</td><td>&quot;Loser&quot;</td><td>&quot;2000-10-21&quot;</td><td>76</td><td>76</td></tr><tr><td>5</td><td>&quot;504 Boyz&quot;</td><td>&quot;Wobble Wobble&quot;</td><td>&quot;2000-04-15&quot;</td><td>57</td><td>34</td></tr></tbody></table></div>"
      ],
      "text/plain": [
       "shape: (5, 6)\n",
       "┌──────────┬──────────────┬─────────────────────────┬──────────────┬─────┬─────┐\n",
       "│ rownames ┆ artist       ┆ track                   ┆ date.entered ┆ wk1 ┆ wk2 │\n",
       "│ ---      ┆ ---          ┆ ---                     ┆ ---          ┆ --- ┆ --- │\n",
       "│ i64      ┆ str          ┆ str                     ┆ str          ┆ i64 ┆ i64 │\n",
       "╞══════════╪══════════════╪═════════════════════════╪══════════════╪═════╪═════╡\n",
       "│ 1        ┆ 2 Pac        ┆ Baby Don't Cry (Keep... ┆ 2000-02-26   ┆ 87  ┆ 82  │\n",
       "│ 2        ┆ 2Ge+her      ┆ The Hardest Part Of ... ┆ 2000-09-02   ┆ 91  ┆ 87  │\n",
       "│ 3        ┆ 3 Doors Down ┆ Kryptonite              ┆ 2000-04-08   ┆ 81  ┆ 70  │\n",
       "│ 4        ┆ 3 Doors Down ┆ Loser                   ┆ 2000-10-21   ┆ 76  ┆ 76  │\n",
       "│ 5        ┆ 504 Boyz     ┆ Wobble Wobble           ┆ 2000-04-15   ┆ 57  ┆ 34  │\n",
       "└──────────┴──────────────┴─────────────────────────┴──────────────┴─────┴─────┘"
      ]
     },
     "execution_count": 15,
     "metadata": {},
     "output_type": "execute_result"
    }
   ],
   "source": [
    "# Load the actual billboard dataset from CSV\n",
    "billboard = pl.read_csv(\"https://raw.githubusercontent.com/philhetzel/opan5510-class12/refs/heads/main/data/billboard.csv\")\n",
    "\n",
    "print(f\"Billboard dataset shape: {billboard.shape}\")\n",
    "print(\"\\nColumn names:\", billboard.columns[:10])  # Show first 10 column names\n",
    "print(\"\\nFirst few rows with selected columns:\")\n",
    "# Show first few columns to see the structure\n",
    "billboard.select(billboard.columns[:6]).head()"
   ]
  },
  {
   "cell_type": "code",
   "execution_count": 16,
   "id": "vcuubbdbiy",
   "metadata": {},
   "outputs": [
    {
     "name": "stdout",
     "output_type": "stream",
     "text": [
      "Long billboard dataset shape: (5307, 6)\n",
      "\n",
      "First 10 rows showing chart positions over weeks:\n"
     ]
    },
    {
     "data": {
      "text/html": [
       "<div><style>\n",
       ".dataframe > thead > tr,\n",
       ".dataframe > tbody > tr {\n",
       "  text-align: right;\n",
       "  white-space: pre-wrap;\n",
       "}\n",
       "</style>\n",
       "<small>shape: (10, 6)</small><table border=\"1\" class=\"dataframe\"><thead><tr><th>rownames</th><th>artist</th><th>track</th><th>date.entered</th><th>week_num</th><th>chart_position</th></tr><tr><td>i64</td><td>str</td><td>str</td><td>str</td><td>str</td><td>str</td></tr></thead><tbody><tr><td>1</td><td>&quot;2 Pac&quot;</td><td>&quot;Baby Don&#x27;t Cry (Keep...&quot;</td><td>&quot;2000-02-26&quot;</td><td>&quot;wk1&quot;</td><td>&quot;87&quot;</td></tr><tr><td>2</td><td>&quot;2Ge+her&quot;</td><td>&quot;The Hardest Part Of ...&quot;</td><td>&quot;2000-09-02&quot;</td><td>&quot;wk1&quot;</td><td>&quot;91&quot;</td></tr><tr><td>3</td><td>&quot;3 Doors Down&quot;</td><td>&quot;Kryptonite&quot;</td><td>&quot;2000-04-08&quot;</td><td>&quot;wk1&quot;</td><td>&quot;81&quot;</td></tr><tr><td>4</td><td>&quot;3 Doors Down&quot;</td><td>&quot;Loser&quot;</td><td>&quot;2000-10-21&quot;</td><td>&quot;wk1&quot;</td><td>&quot;76&quot;</td></tr><tr><td>5</td><td>&quot;504 Boyz&quot;</td><td>&quot;Wobble Wobble&quot;</td><td>&quot;2000-04-15&quot;</td><td>&quot;wk1&quot;</td><td>&quot;57&quot;</td></tr><tr><td>6</td><td>&quot;98^0&quot;</td><td>&quot;Give Me Just One Nig...&quot;</td><td>&quot;2000-08-19&quot;</td><td>&quot;wk1&quot;</td><td>&quot;51&quot;</td></tr><tr><td>7</td><td>&quot;A*Teens&quot;</td><td>&quot;Dancing Queen&quot;</td><td>&quot;2000-07-08&quot;</td><td>&quot;wk1&quot;</td><td>&quot;97&quot;</td></tr><tr><td>8</td><td>&quot;Aaliyah&quot;</td><td>&quot;I Don&#x27;t Wanna&quot;</td><td>&quot;2000-01-29&quot;</td><td>&quot;wk1&quot;</td><td>&quot;84&quot;</td></tr><tr><td>9</td><td>&quot;Aaliyah&quot;</td><td>&quot;Try Again&quot;</td><td>&quot;2000-03-18&quot;</td><td>&quot;wk1&quot;</td><td>&quot;59&quot;</td></tr><tr><td>10</td><td>&quot;Adams, Yolanda&quot;</td><td>&quot;Open My Heart&quot;</td><td>&quot;2000-08-26&quot;</td><td>&quot;wk1&quot;</td><td>&quot;76&quot;</td></tr></tbody></table></div>"
      ],
      "text/plain": [
       "shape: (10, 6)\n",
       "┌──────────┬────────────────┬─────────────────────────┬──────────────┬──────────┬────────────────┐\n",
       "│ rownames ┆ artist         ┆ track                   ┆ date.entered ┆ week_num ┆ chart_position │\n",
       "│ ---      ┆ ---            ┆ ---                     ┆ ---          ┆ ---      ┆ ---            │\n",
       "│ i64      ┆ str            ┆ str                     ┆ str          ┆ str      ┆ str            │\n",
       "╞══════════╪════════════════╪═════════════════════════╪══════════════╪══════════╪════════════════╡\n",
       "│ 1        ┆ 2 Pac          ┆ Baby Don't Cry (Keep... ┆ 2000-02-26   ┆ wk1      ┆ 87             │\n",
       "│ 2        ┆ 2Ge+her        ┆ The Hardest Part Of ... ┆ 2000-09-02   ┆ wk1      ┆ 91             │\n",
       "│ 3        ┆ 3 Doors Down   ┆ Kryptonite              ┆ 2000-04-08   ┆ wk1      ┆ 81             │\n",
       "│ 4        ┆ 3 Doors Down   ┆ Loser                   ┆ 2000-10-21   ┆ wk1      ┆ 76             │\n",
       "│ 5        ┆ 504 Boyz       ┆ Wobble Wobble           ┆ 2000-04-15   ┆ wk1      ┆ 57             │\n",
       "│ 6        ┆ 98^0           ┆ Give Me Just One Nig... ┆ 2000-08-19   ┆ wk1      ┆ 51             │\n",
       "│ 7        ┆ A*Teens        ┆ Dancing Queen           ┆ 2000-07-08   ┆ wk1      ┆ 97             │\n",
       "│ 8        ┆ Aaliyah        ┆ I Don't Wanna           ┆ 2000-01-29   ┆ wk1      ┆ 84             │\n",
       "│ 9        ┆ Aaliyah        ┆ Try Again               ┆ 2000-03-18   ┆ wk1      ┆ 59             │\n",
       "│ 10       ┆ Adams, Yolanda ┆ Open My Heart           ┆ 2000-08-26   ┆ wk1      ┆ 76             │\n",
       "└──────────┴────────────────┴─────────────────────────┴──────────────┴──────────┴────────────────┘"
      ]
     },
     "execution_count": 16,
     "metadata": {},
     "output_type": "execute_result"
    }
   ],
   "source": [
    "# Transform billboard data from wide to long format\n",
    "\n",
    "# Get all week columns (assuming they start with 'wk')\n",
    "week_columns = [col for col in billboard.columns if col.startswith('wk')]\n",
    "\n",
    "# Get the ID columns (everything except week columns)\n",
    "id_columns = [col for col in billboard.columns if not col.startswith('wk')]\n",
    "\n",
    "longer_billboard = (\n",
    "    billboard\n",
    "    .unpivot(\n",
    "        index=id_columns,                              # Keep these columns\n",
    "        on=week_columns,                                # Unpivot week columns\n",
    "        variable_name=\"week_num\",                      # Name for week column\n",
    "        value_name=\"chart_position\"                    # Name for position values\n",
    "    )\n",
    "    .filter(pl.col(\"chart_position\").is_not_null())   # Remove nulls (songs off chart)\n",
    ")\n",
    "\n",
    "print(f\"Long billboard dataset shape: {longer_billboard.shape}\")\n",
    "print(\"\\nFirst 10 rows showing chart positions over weeks:\")\n",
    "longer_billboard.head(10)"
   ]
  },
  {
   "cell_type": "markdown",
   "id": "gipig680zu",
   "metadata": {},
   "source": [
    "### US Rent Income Dataset Example"
   ]
  },
  {
   "cell_type": "code",
   "execution_count": null,
   "id": "nlk2n0cka8",
   "metadata": {},
   "outputs": [
    {
     "name": "stdout",
     "output_type": "stream",
     "text": [
      "US Rent/Income dataset shape: (104, 6)\n",
      "\n",
      "Column names: ['rownames', 'GEOID', 'NAME', 'variable', 'estimate', 'moe']\n",
      "\n",
      "Dataset (long format):\n"
     ]
    },
    {
     "data": {
      "text/html": [
       "<div><style>\n",
       ".dataframe > thead > tr,\n",
       ".dataframe > tbody > tr {\n",
       "  text-align: right;\n",
       "  white-space: pre-wrap;\n",
       "}\n",
       "</style>\n",
       "<small>shape: (10, 6)</small><table border=\"1\" class=\"dataframe\"><thead><tr><th>rownames</th><th>GEOID</th><th>NAME</th><th>variable</th><th>estimate</th><th>moe</th></tr><tr><td>i64</td><td>i64</td><td>str</td><td>str</td><td>i64</td><td>i64</td></tr></thead><tbody><tr><td>1</td><td>1</td><td>&quot;Alabama&quot;</td><td>&quot;income&quot;</td><td>24476</td><td>136</td></tr><tr><td>2</td><td>1</td><td>&quot;Alabama&quot;</td><td>&quot;rent&quot;</td><td>747</td><td>3</td></tr><tr><td>3</td><td>2</td><td>&quot;Alaska&quot;</td><td>&quot;income&quot;</td><td>32940</td><td>508</td></tr><tr><td>4</td><td>2</td><td>&quot;Alaska&quot;</td><td>&quot;rent&quot;</td><td>1200</td><td>13</td></tr><tr><td>5</td><td>4</td><td>&quot;Arizona&quot;</td><td>&quot;income&quot;</td><td>27517</td><td>148</td></tr><tr><td>6</td><td>4</td><td>&quot;Arizona&quot;</td><td>&quot;rent&quot;</td><td>972</td><td>4</td></tr><tr><td>7</td><td>5</td><td>&quot;Arkansas&quot;</td><td>&quot;income&quot;</td><td>23789</td><td>165</td></tr><tr><td>8</td><td>5</td><td>&quot;Arkansas&quot;</td><td>&quot;rent&quot;</td><td>709</td><td>5</td></tr><tr><td>9</td><td>6</td><td>&quot;California&quot;</td><td>&quot;income&quot;</td><td>29454</td><td>109</td></tr><tr><td>10</td><td>6</td><td>&quot;California&quot;</td><td>&quot;rent&quot;</td><td>1358</td><td>3</td></tr></tbody></table></div>"
      ],
      "text/plain": [
       "shape: (10, 6)\n",
       "┌──────────┬───────┬────────────┬──────────┬──────────┬─────┐\n",
       "│ rownames ┆ GEOID ┆ NAME       ┆ variable ┆ estimate ┆ moe │\n",
       "│ ---      ┆ ---   ┆ ---        ┆ ---      ┆ ---      ┆ --- │\n",
       "│ i64      ┆ i64   ┆ str        ┆ str      ┆ i64      ┆ i64 │\n",
       "╞══════════╪═══════╪════════════╪══════════╪══════════╪═════╡\n",
       "│ 1        ┆ 1     ┆ Alabama    ┆ income   ┆ 24476    ┆ 136 │\n",
       "│ 2        ┆ 1     ┆ Alabama    ┆ rent     ┆ 747      ┆ 3   │\n",
       "│ 3        ┆ 2     ┆ Alaska     ┆ income   ┆ 32940    ┆ 508 │\n",
       "│ 4        ┆ 2     ┆ Alaska     ┆ rent     ┆ 1200     ┆ 13  │\n",
       "│ 5        ┆ 4     ┆ Arizona    ┆ income   ┆ 27517    ┆ 148 │\n",
       "│ 6        ┆ 4     ┆ Arizona    ┆ rent     ┆ 972      ┆ 4   │\n",
       "│ 7        ┆ 5     ┆ Arkansas   ┆ income   ┆ 23789    ┆ 165 │\n",
       "│ 8        ┆ 5     ┆ Arkansas   ┆ rent     ┆ 709      ┆ 5   │\n",
       "│ 9        ┆ 6     ┆ California ┆ income   ┆ 29454    ┆ 109 │\n",
       "│ 10       ┆ 6     ┆ California ┆ rent     ┆ 1358     ┆ 3   │\n",
       "└──────────┴───────┴────────────┴──────────┴──────────┴─────┘"
      ]
     },
     "execution_count": 17,
     "metadata": {},
     "output_type": "execute_result"
    }
   ],
   "source": [
    "# Load the actual US rent/income dataset from CSV\n",
    "us_rent_income = pl.read_csv(\"https://raw.githubusercontent.com/philhetzel/opan5510-class12/refs/heads/main/data/us_rent_income.csv\")\n",
    "\n",
    "print(\"US Rent/Income dataset shape:\", us_rent_income.shape)\n",
    "print(\"\\nColumn names:\", us_rent_income.columns)\n",
    "print(\"\\nDataset (long format):\")\n",
    "us_rent_income.head(10)"
   ]
  },
  {
   "cell_type": "code",
   "execution_count": 22,
   "id": "x1mu1vere5c",
   "metadata": {},
   "outputs": [
    {
     "name": "stdout",
     "output_type": "stream",
     "text": [
      "US Rent/Income dataset (wide format):\n",
      "Now each metric (rent/income) has separate columns for estimate and margin of error:\n"
     ]
    },
    {
     "data": {
      "text/html": [
       "<div><style>\n",
       ".dataframe > thead > tr,\n",
       ".dataframe > tbody > tr {\n",
       "  text-align: right;\n",
       "  white-space: pre-wrap;\n",
       "}\n",
       "</style>\n",
       "<small>shape: (52, 6)</small><table border=\"1\" class=\"dataframe\"><thead><tr><th>GEOID</th><th>NAME</th><th>estimate_income</th><th>estimate_rent</th><th>moe_income</th><th>moe_rent</th></tr><tr><td>i64</td><td>str</td><td>i64</td><td>i64</td><td>i64</td><td>i64</td></tr></thead><tbody><tr><td>1</td><td>&quot;Alabama&quot;</td><td>24476</td><td>747</td><td>136</td><td>3</td></tr><tr><td>2</td><td>&quot;Alaska&quot;</td><td>32940</td><td>1200</td><td>508</td><td>13</td></tr><tr><td>4</td><td>&quot;Arizona&quot;</td><td>27517</td><td>972</td><td>148</td><td>4</td></tr><tr><td>5</td><td>&quot;Arkansas&quot;</td><td>23789</td><td>709</td><td>165</td><td>5</td></tr><tr><td>6</td><td>&quot;California&quot;</td><td>29454</td><td>1358</td><td>109</td><td>3</td></tr><tr><td>&hellip;</td><td>&hellip;</td><td>&hellip;</td><td>&hellip;</td><td>&hellip;</td><td>&hellip;</td></tr><tr><td>53</td><td>&quot;Washington&quot;</td><td>32318</td><td>1120</td><td>113</td><td>4</td></tr><tr><td>54</td><td>&quot;West Virginia&quot;</td><td>23707</td><td>681</td><td>203</td><td>6</td></tr><tr><td>55</td><td>&quot;Wisconsin&quot;</td><td>29868</td><td>813</td><td>135</td><td>3</td></tr><tr><td>56</td><td>&quot;Wyoming&quot;</td><td>30854</td><td>828</td><td>342</td><td>11</td></tr><tr><td>72</td><td>&quot;Puerto Rico&quot;</td><td>null</td><td>464</td><td>null</td><td>6</td></tr></tbody></table></div>"
      ],
      "text/plain": [
       "shape: (52, 6)\n",
       "┌───────┬───────────────┬─────────────────┬───────────────┬────────────┬──────────┐\n",
       "│ GEOID ┆ NAME          ┆ estimate_income ┆ estimate_rent ┆ moe_income ┆ moe_rent │\n",
       "│ ---   ┆ ---           ┆ ---             ┆ ---           ┆ ---        ┆ ---      │\n",
       "│ i64   ┆ str           ┆ i64             ┆ i64           ┆ i64        ┆ i64      │\n",
       "╞═══════╪═══════════════╪═════════════════╪═══════════════╪════════════╪══════════╡\n",
       "│ 1     ┆ Alabama       ┆ 24476           ┆ 747           ┆ 136        ┆ 3        │\n",
       "│ 2     ┆ Alaska        ┆ 32940           ┆ 1200          ┆ 508        ┆ 13       │\n",
       "│ 4     ┆ Arizona       ┆ 27517           ┆ 972           ┆ 148        ┆ 4        │\n",
       "│ 5     ┆ Arkansas      ┆ 23789           ┆ 709           ┆ 165        ┆ 5        │\n",
       "│ 6     ┆ California    ┆ 29454           ┆ 1358          ┆ 109        ┆ 3        │\n",
       "│ …     ┆ …             ┆ …               ┆ …             ┆ …          ┆ …        │\n",
       "│ 53    ┆ Washington    ┆ 32318           ┆ 1120          ┆ 113        ┆ 4        │\n",
       "│ 54    ┆ West Virginia ┆ 23707           ┆ 681           ┆ 203        ┆ 6        │\n",
       "│ 55    ┆ Wisconsin     ┆ 29868           ┆ 813           ┆ 135        ┆ 3        │\n",
       "│ 56    ┆ Wyoming       ┆ 30854           ┆ 828           ┆ 342        ┆ 11       │\n",
       "│ 72    ┆ Puerto Rico   ┆ null            ┆ 464           ┆ null       ┆ 6        │\n",
       "└───────┴───────────────┴─────────────────┴───────────────┴────────────┴──────────┘"
      ]
     },
     "execution_count": 22,
     "metadata": {},
     "output_type": "execute_result"
    }
   ],
   "source": [
    "# Pivot US rent/income data to wide format\n",
    "# This creates separate columns for rent_estimate, rent_moe, income_estimate, income_moe\n",
    "\n",
    "# First, we need to reshape the data to have separate columns for estimate and moe\n",
    "# In polars, we can do this by pivoting twice and then joining, or by melting and pivoting\n",
    "\n",
    "# Method: Create separate dataframes for estimate and moe, then join\n",
    "wider_rent_income = us_rent_income.pivot(\n",
    "    index=[\"GEOID\", \"NAME\"],\n",
    "    on=\"variable\",\n",
    "    values=[\"estimate\", \"moe\"]\n",
    ")\n",
    "\n",
    "print(\"US Rent/Income dataset (wide format):\")\n",
    "print(\"Now each metric (rent/income) has separate columns for estimate and margin of error:\")\n",
    "wider_rent_income"
   ]
  },
  {
   "cell_type": "code",
   "execution_count": null,
   "id": "0159cc56",
   "metadata": {},
   "outputs": [],
   "source": []
  }
 ],
 "metadata": {
  "kernelspec": {
   "display_name": ".venv",
   "language": "python",
   "name": "python3"
  },
  "language_info": {
   "codemirror_mode": {
    "name": "ipython",
    "version": 3
   },
   "file_extension": ".py",
   "mimetype": "text/x-python",
   "name": "python",
   "nbconvert_exporter": "python",
   "pygments_lexer": "ipython3",
   "version": "3.12.10"
  }
 },
 "nbformat": 4,
 "nbformat_minor": 5
}
